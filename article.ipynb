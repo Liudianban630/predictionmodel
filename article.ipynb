{
 "cells": [
  {
   "cell_type": "markdown",
   "metadata": {},
   "source": [
    "# **Identification and validation of an explainable prediction model of prognosis after Acute cerebral infarction: a prospective study**"
   ]
  },
  {
   "cell_type": "markdown",
   "metadata": {},
   "source": [
    "## abstract\n",
    "### background \n",
    "### Methods \n",
    "### results\n",
    "24小时内入院，出院后3个月随访计算评分\n",
    "---\n",
    "1. 确定纳入的变量，包括table1的制作以及临床意义\n",
    "2. "
   ]
  },
  {
   "cell_type": "markdown",
   "metadata": {},
   "source": [
    "## introdution\n",
    "Acute cerebral infarction is\n",
    "Inflammatory corpuscle \n",
    "The machine learning (ML) \n",
    "In this study, we aimed to develop "
   ]
  },
  {
   "cell_type": "markdown",
   "metadata": {},
   "source": [
    "## Introduction\n",
    "\n",
    "### 1. Introduction to Acute Cerebral Infarction and the Importance of Prognosis Prediction\n",
    "\n",
    "Acute Cerebral Infarction (ACI), commonly known as ischemic stroke, remains a major cause of death and long-term disability worldwide. It occurs due to the sudden obstruction of blood flow to the brain, often resulting from an embolism or thrombosis, which leads to neuronal damage and functional impairments (Feigin et al., 2014). Early and accurate prediction of prognosis in ACI patients is crucial for optimizing treatment strategies, resource allocation, and patient counseling (Lees et al., 2010). The ability to predict outcomes such as survival, functional recovery, and recurrence risk is essential for improving patient care and reducing the burden on healthcare systems (Donnan et al., 2008; Hankey, 2017; Heuschmann et al., 2011).\n",
    "\n",
    "### 2. Inflammatory Indicators and Their Association with the Prognosis of Acute Cerebral Infarction\n",
    "\n",
    "Inflammation is a key component of the pathophysiological response to cerebral ischemia. Following an ischemic event, a complex inflammatory cascade is triggered, involving both the central nervous system and peripheral immune responses (Chamorro et al., 2012). Elevated levels of inflammatory biomarkers such as C-reactive protein (CRP), interleukin-6 (IL-6), and tumor necrosis factor-alpha (TNF-α) have been associated with increased stroke severity and worse outcomes**根据结果更换几个炎症指标** (Whiteley et al., 2011). These markers reflect the extent of tissue damage and the body's response to injury, making them valuable predictors of prognosis (Montaner et al., 2003; Vila et al., 2000; Smith et al., 2006). Understanding the role of inflammation in ACI can inform the development of targeted therapies and enhance prognostic models (Emsley & Tyrrell, 2002; Tuttolomondo et al., 2008; Wang et al., 2016).\n",
    "\n",
    "### 3. Introduction to Machine Learning and SHAP Method\n",
    "\n",
    "Machine learning (ML) offers advanced analytical capabilities for handling complex and high-dimensional datasets, making it a powerful tool for medical prognosis (Obermeyer & Emanuel, 2016). In stroke research, ML algorithms can integrate various clinical and biological variables to create predictive models with superior accuracy compared to traditional statistical methods (Kansagra et al., 2020).  However, although the ML approach is powerful due to the complexity of the model, it is still limited by the difficulty of stating a direct interpretation, as a so-called “black-box”. \n",
    "> Azodi CB, Tang J, Shiu SH. Opening the black box: interpretable\n",
    "machine learning for geneticists. Trends Genet. 2020;36:442–455.\n",
    "\n",
    "The SHapley Additive exPlanations (SHAP) method provides a framework for interpreting these models by quantifying the contribution of each feature to the prediction (Lundberg & Lee, 2017). SHAP values enhance the transparency and interpretability of ML models, which is critical for their application in clinical settings where understanding the decision-making process is as important as the predictions themselves (Molnar, 2019; Ribeiro et al., 2016; Shrikumar et al., 2017).\n",
    "\n",
    "### 4. Aim of Our Study\n",
    "\n",
    "The aim of our study is to develop and validate a predictive model for the prognosis of Acute Cerebral Infarction using inflammatory indicators, leveraging machine learning techniques. We intend to evaluate the model's performance in terms of discrimination and calibration, ensuring it accurately predicts patient outcomes. Furthermore, we aim to employ the SHAP method to interpret the importance of individual inflammatory markers, providing insights into their roles in prognosis. Our ultimate goal is to enhance the understanding of the prognostic value of inflammatory responses in ACI and to develop a robust predictive tool that can improve clinical decision-making and patient management.潞河医院京东地区的代表性，大社区，通州地区人民出生到死亡，内部有效性极高\n",
    "\n",
    "In summary, this research seeks to integrate inflammatory biomarkers and machine learning methodologies to advance prognostic modeling in Acute Cerebral Infarction, potentially leading to better patient outcomes and more efficient healthcare delivery.\n",
    "\n",
    "### References\n",
    "\n",
    "1. Chamorro, Á., Meisel, A., Planas, A. M., Urra, X., van de Beek, D., Veltkamp, R., ... & Bornstein, N. (2012). The immunology of acute stroke. *Nature Reviews Neurology*, 8(7), 401-410.\n",
    "2. Donnan, G. A., Fisher, M., Macleod, M., & Davis, S. M. (2008). Stroke. *Lancet*, 371(9624), 1612-1623.\n",
    "3. Emsley, H. C. A., & Tyrrell, P. J. (2002). Inflammation and infection in clinical stroke. *Journal of Cerebral Blood Flow & Metabolism*, 22(12), 1399-1419.\n",
    "4. Feigin, V. L., Norrving, B., & Mensah, G. A. (2014). Global burden of stroke. *Circulation Research*, 120(3), 439-448.\n",
    "5. Hankey, G. J. (2017). Stroke. *Lancet*, 389(10069), 641-654.\n",
    "6. Heuschmann, P. U., Wiedmann, S., Wellwood, I., Rudd, A., Di Carlo, A., Bejot, Y., ... & Wolfe, C. D. (2011). Three-month stroke outcome: the European Registers of Stroke (EROS) investigators. *Neurology*, 76(2), 159-165.\n",
    "7. Kansagra, A. P., Goyal, M. S., Hamilton, S., & Albers, G. W. (2020). Automated assessment of the Alberta stroke program early CT score (ASPECTS): a systematic review of current methodologies and clinical use. *Journal of NeuroInterventional Surgery*, 12(7), 748-753.\n",
    "8. Lees, K. R., Bluhmki, E., von Kummer, R., Brott, T. G., Toni, D., Grotta, J. C., ... & Hacke, W. (2010). Time to treatment with intravenous alteplase and outcome in stroke: an updated pooled analysis of ECASS, ATLANTIS, NINDS, and EPITHET trials. *The Lancet*, 375(9727), 1695-1703.\n",
    "9. Lundberg, S. M., & Lee, S. I. (2017). A unified approach to interpreting model predictions. *Advances in Neural Information Processing Systems*, 30.\n",
    "10. Molnar, C. (2019). *Interpretable Machine Learning*. https://christophm.github.io/interpretable-ml-book/\n",
    "11. Montaner, J., Perea-Gainza, M., Delgado, P., Ribo, M., Chacon, P., Rosell, A., ... & Alvarez-Sabin, J. (2003). Etiologic diagnosis of ischemic stroke subtypes with plasma biomarkers. *Stroke*, 39(8), 2280-2287.\n",
    "12. Obermeyer, Z., & Emanuel, E. J. (2016). Predicting the future—big data, machine learning, and clinical medicine. *The New England Journal of Medicine*, 375(13), 1216-1219.\n",
    "13. Ribeiro, M. T., Singh, S., & Guestrin, C. (2016). \"Why Should I Trust You?\" Explaining the Predictions of Any Classifier. *Proceedings of the 22nd ACM SIGKDD International Conference on Knowledge Discovery and Data Mining*, 1135-1144.\n",
    "14. Shrikumar, A., Greenside, P., & Kundaje, A. (2017). Learning Important Features Through Propagating Activation Differences. *Proceedings of the 34th International Conference on Machine Learning*, 3145-3153.\n",
    "15. Smith, C. J., Emsley, H. C. A., Gavin, C. M., Georgiou, R. F., Vail, A., Barberan, E. M., ... & Tyrrell, P. J. (2006). Peak plasma interleukin-6 and other peripheral markers of inflammation in the first week of ischaemic stroke are associated with brain infarct volume, stroke severity and long-term outcome. *BMC Neurology*, 4, 2.\n",
    "16. Tuttolomondo, A., Di Raimondo, D., Pecoraro, R., Arnao, V., Pinto, A., & Licata, G. (2008). Inflammation in ischemic stroke subtypes. *Current Pharmaceutical Design*, 14(33), 3549-3569.\n",
    "17. Vila, N., Castillo, J., Dávalos, A., & Chamorro, Á. (2000). Proinflammatory cytokines and early neurological worsening in ischemic stroke. *Stroke*, 31(10), 2325-2329.\n",
    "18. Wang, Q., Tang, X. N., & Yenari, M. A. (2007). The inflammatory response in stroke. *Journal of Neuroimmunology*, 184(1-2), 53-68.\n",
    "19. Whiteley, W., Tseng, M. C., & Sandercock, P. (2011). Blood biomarkers in the diagnosis and prognosis of acute stroke: a systematic review. *Stroke*, 42(10), 3433-3439.\n",
    "20. Yaghi, S., Willey, J. Z., Cucchiara, B., Goldstein, J. N., Sheth, K. N., Menon, B. K., ... & Kamel, H. (2017). Treatment and outcome of thrombolysis-related hemorrhage: an international multicenter retrospective study. *Stroke*, 48(4), 967-971.\n"
   ]
  },
  {
   "cell_type": "markdown",
   "metadata": {},
   "source": [
    "### Methods\n",
    "\n",
    "#### Study Population\n",
    "This real-world research was conducted at Luhe Hospital, encompassing the period from January 1, 2022, to December 31, 2023. A total of 1017 patients, aged over 18 years, who had Acute Cerebral Infarction (ACI) confirmed by computed tomography (CT) or magnetic resonance imaging (MRI) of the brain within 48 hours of symptom onset, were consecutively enrolled in the study.\n",
    "\n",
    "#### Data Collection and Processing\n",
    "We collected demographic characteristics, labortory data(mainly inflammatory indicators) and vital sign measurements. All data were obtained from the EMR system. To ensure the robustness of the data, multi-collinearity among the variables was assessed using the variance inflation factor (VIF). Any indicator with a VIF greater than 10 was considered highly collinear and was either excluded or combined with other indicators to lighten the effects of multi-collinearity. In addition, features with over 10% missing vlaues were excluded in the following analyses to minimize the bias resulting from missing data. Finally, 20 features, including sex, age, smoking, drinking, length of stay (LOS), previous stroke, valvular heart disease (VHD), atrial fibrillation (AF), Diabetes mellitus, hypertension, hyperlipidemia, coronary heart disease (CHD), White Blood Cells (WBC), neutrophil percentage (N%), Lymphocytes percentage (L%), monocytes percentage (M%), Neutrophil count (N), Lymphocytes count (L), Monocytes count (M), Red blood cells (RBC), hemoglobin (HB), platelets (PLT), Natriuretic Peptide (NT-proBNP), D-dimer, Platelet-to-Lymphocyte Ratio (PLR),  Neutrophil-to-Lymphocyte Ratio (NLR), Systemic Inflammation Index (SII), Systemic Inflammatory Response Index (SIRI), Glucose (GLU), Emergency diastolic blood pressure SBP_EM, DBP_EM, SBP_IN, DBP_IN, indicators measured 24 hours after hospital admission: WBC_24h,  N%_24h, L%_24h, M%_24h, N_24h, L_24h, M_24h, RBC_24h, HB_24h, PLT_24h, D-dimer_24h, PLR_24h, NLR_24h, SII_24h, SIRI_24h, triglycerides (TG), total cholesterol (TC), High-Density Lipoprotein Cholesterol (HDLC), Low-Density Lipoprotein Cholesterol (LDLC), Monocyte to High-Density Lipoprotein Cholesterol Ratio (MHR), cause of stroke (COS), venous thrombectomy (VT), thrombectomy, bridging, Arterial occlusion site (AS), thrombectomy times (TT), Onset to time of presentation (OTTP),National Institutes of Health Stroke Scale of inpatient (NIHSS_IN), NIHSS_24h, CTble, sICH, infectious    **根据原始数据收集及相关性及共线性选择，以炎症指标为主**  were utilized to develop the prediction models.\n",
    "\n",
    "\n",
    "#### Definition of ACI and Its Prognosis\n",
    "Acute Cerebral Infarction was defined based on clinical symptoms and confirmed by CT or MRI within 48 hours of symptom onset. Moreover, the dmRS, a simplified scoring system derived from the modified Rankin Scale (mRS), designed specifically for this study as a predictive indicator for pognosis at 90 days post-discharge. The dmRS assigns scores based on the level of disability or dependency in daily activities, ranging from 0 (no symptoms) to 6 (death). In our study, we have adapted the mRS into a binary outcome measure by categorizing scores as follows:\n",
    "dmRS < 3: Indicates a Favorable prognosis, suggesting minimal to moderate symptoms with some level of independence in daily activities.\n",
    "dmRS ≥ 3: Indicates a Unfavorable prognosis, reflecting severe disability or dependency in daily activities.\n",
    "This simplified scale was chosen for its ease of use and ability to provide a clear dichotomy between favorable and unfavorable outcomes in our patient population.  \n",
    "\n",
    "#### Model Development and Comparison\n",
    "The dataset was randomly split into a training set (70%) and a validation set (30%). Missing data (less than 10%) were handled using multiple imputation by chained equations (MICE) to maintain the integrity of the dataset. Twelve machine learning (ML) models were developed, including adaptive boosting (AdaBoost), artificial neutral network (ANN), decision tree (DT), extra tree (ET), gradient boosting machine (GBM), K-nearest neighbor (KNN), light gradient boosting machine (LightGBM), logistic regression (LR), Naive Bayes, random forest (RF), support vector machine (SVM), and eXtreme gradient boosting (XGboost). These models utilized a comprehensive set of features derived from the inflammatory indicators. The performance of each model was evaluated using commonly used evaluation indexes including the area under the receiver-operating-characteristic (ROC) curve (AUC), sensitivity, specificity, positive predictive value (PPV), negative predictive value (NPV), accuracy, and F1 score.\n",
    "\n",
    "#### Feature Selection and Model Explanation\n",
    "The SHapley Additive exPlanations (SHAP) method was employed to rank the importance of input features and to provide an interpretable explanation of the model's predictions. SHAP values were calculated to understand the contribution of each feature to the model's output, allowing for a clear interpretation of how inflammatory indicators influence the prognosis of ACI.\n",
    "\n",
    "![image.png](attachment:image.png)\n",
    "\n",
    "\n",
    "\n",
    "> Mitchell R, Frank E, Holmes G. GPUTreeShap: massively parallel exact calculation of SHAP scores for tree ensembles. PeerJ Comput Sci. 2022 Apr 5;8:e880. doi: 10.7717/peerj-cs.880. PMID: 35494875; PMCID: PMC9044362.\n",
    "\n",
    "> Lundberg SM, Erion G, Chen H, DeGrave A, Prutkin JM, Nair B, Katz R, Himmelfarb J, Bansal N, Lee SI. From Local Explanations to Global Understanding with Explainable AI for Trees. Nat Mach Intell. 2020 Jan;2(1):56-67. doi: 10.1038/s42256-019-0138-9. Epub 2020 Jan 17. PMID: 32607472; PMCID: PMC7326367.\n",
    "\n",
    "\n",
    "\n",
    "#### Web Page Development Tool Based on Streamlit Framework\n",
    "A web application was developed using the Streamlit Python-based framework. This application allows for interactive exploration and visualization of the prediction model's results. It provides an accessible interface for clinicians to input patient data and obtain prognostic predictions in real time.\n",
    "\n",
    "#### Statistical Analysis\n",
    "Statistical analyses were performed using Python (version 3.8.1) and RStudio (version 4.1). Continuous variables were expressed as means ± standard deviations and compared using Student’s t-test or Mann-Whitney U test, depending on the data distribution. Categorical variables were expressed as counts and percentages and compared using the chi-square test or Fisher’s exact test, as appropriate. The AUCs were used to evaluated the predictive power, and Youden index (sensitivity + specificity - 1) indecates the optimal cutoff value. A two-tailed P value < 0.05 was considered statistically significant.\n",
    "\n"
   ]
  },
  {
   "cell_type": "markdown",
   "metadata": {},
   "source": [
    "## results\n",
    "### patient characteristics\n",
    "This prospective study involved 1017 acute cerebral infarction patients hospitalized within 24 hours for the identificaiton of the prediction model. Comparison of predictive variables between good prognosis and poor prognosis is showned in Table 1. Details of the study design are displayed in Fig.1.\n",
    "Among the 1017 patients in the real-world study, 590 (58.0%) have a good prognosis.\n",
    "\n",
    "\n",
    "\n",
    "**Fig. 1: FLow gram of the study design.** ML: machine learning;SHAP: SHapley Additive explanation.\n",
    "\n",
    "**Table 1: comparison of demographic and clinical characteristics between favorable and unfavorable prognosis in the real-world study.**\n",
    "\n",
    "\n",
    "### Model development and performance comparison\n",
    "The data collected were used to generate 12 ML models to predict the prognosis of acute cerebral infarction patients. Among the 12 models, GBM model (AUC=0.934) had the best predictive effect for prognosis, followed by LightGBM model (AUC=0.926) and Adaboost model (AUC=0.925). The discriminative performances of these 12 models are listed in Table 2, and the ROC curves and the SHAP summary plots of the top 20 features for the 12 ML models are presented in Fig.2. We reduced the features based on the feature important rank and the changes in AUCs for these 12 models showed that GBM model have the best predictive performance, as showned in Fig.2B. And the performance of GBM model with features reduction is displayed in Fig 2C. The accurancy, AUCS, sensitivity, specificity, PPV, NPV, and F1 score were calculated at the best cutoff in the circumstance of best Youden index.\n",
    "### Identification of the final model \n",
    "The final model was identified during the feature reduction of the GBM model. As showned in Fig 2C, the 10-feature model was the appropriate both in number of features and the value of AUC in predicting prognosis of the patients. hence, we focused on the 10-feature GBM model including NIHSS, NLR_24h, LOS, L_24h, N_24h, SII_24h, as the final model for further anallysis. and the accurancy, AUCS, sensitivity, specificity, PPV, NPV, and F1 score of the final model were 0.929, 0.866 for prediciting the prognosis respectively.   \n",
    "           \n",
    "\n",
    "\n",
    "### Model explanation\n",
    "We used SHAP method to interpret the output of the final model by calculating the contribution of each variable of its prediction. there are two types of explanations of this explanable method: global explanation of the model and local explanation at the individual level.Fig.3A and B showed the global explanation of the overall fuctionality of the model, which using the average SHAP values evaluated the contributions of the feature and exibited in decending order.\n",
    " \n",
    "### Concenient application of clinical utility\n",
    "The final prediction model was implemented into the web application for clinical application, as shown in Fig.5. The application will automatically predict the risk of prognisis when the actual values of the 6 features required for the model are entered. Additionally, a force plot for the individual patient will also be displayed to indicate the features that contribute to the decision of prognosis: the blue features on the right are the features pushing the prediction towards good prognosis. The web application is accessible online at http:\n",
    "\n",
    "### Prognostic implications\n",
    "The investigation of \n"
   ]
  },
  {
   "cell_type": "markdown",
   "metadata": {},
   "source": [
    "## **Discussion**\n",
    "This is a first prospective study, to our knowledge, to investigate and compare 12 ML models for comprehensive prognosis prediction analyses. We identified a set of predictive risk factors and constructed a prediction model for \n",
    "To date, numerous studies have concentrated on\n",
    "Due to the lack of guidelines or consensus for \n",
    "The final model we developed had a superior ability \n",
    "The other major finding in this study\n",
    "We should acknowledge several limitations of this study.\n",
    "In conclusion,"
   ]
  },
  {
   "cell_type": "markdown",
   "metadata": {},
   "source": [
    "#### **Contributors**\n"
   ]
  }
 ],
 "metadata": {
  "kernelspec": {
   "display_name": "Python 3",
   "language": "python",
   "name": "python3"
  },
  "language_info": {
   "codemirror_mode": {
    "name": "ipython",
    "version": 3
   },
   "file_extension": ".py",
   "mimetype": "text/x-python",
   "name": "python",
   "nbconvert_exporter": "python",
   "pygments_lexer": "ipython3",
   "version": "3.8.1"
  }
 },
 "nbformat": 4,
 "nbformat_minor": 2
}
